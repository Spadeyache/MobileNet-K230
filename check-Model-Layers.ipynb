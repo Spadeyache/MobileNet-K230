{
 "cells": [
  {
   "cell_type": "code",
   "execution_count": 2,
   "id": "04db84ac",
   "metadata": {},
   "outputs": [
    {
     "name": "stdout",
     "output_type": "stream",
     "text": [
      "    Layer Type  Count\n",
      "0         Conv     27\n",
      "1         Relu     27\n",
      "2  AveragePool      1\n",
      "3     Constant      1\n",
      "4      Reshape      1\n",
      "5         Gemm      1\n"
     ]
    }
   ],
   "source": [
    "import onnx\n",
    "from collections import Counter\n",
    "import pandas as pd\n",
    "\n",
    "# パスはあなたのファイルの場所に置き換えてください\n",
    "model_path = \"mobilenetv1-02.onnx\"\n",
    "model = onnx.load(model_path)\n",
    "\n",
    "# レイヤータイプを抽出\n",
    "layer_types = [node.op_type for node in model.graph.node]\n",
    "\n",
    "# レイヤー数をカウント\n",
    "layer_summary = Counter(layer_types)\n",
    "\n",
    "# 表示\n",
    "df = pd.DataFrame(layer_summary.items(), columns=[\"Layer Type\", \"Count\"])\n",
    "df = df.sort_values(by=\"Count\", ascending=False)\n",
    "print(df)\n"
   ]
  },
  {
   "cell_type": "code",
   "execution_count": null,
   "id": "431c8b59",
   "metadata": {},
   "outputs": [],
   "source": []
  }
 ],
 "metadata": {
  "kernelspec": {
   "display_name": "torch-gpu",
   "language": "python",
   "name": "python3"
  },
  "language_info": {
   "codemirror_mode": {
    "name": "ipython",
    "version": 3
   },
   "file_extension": ".py",
   "mimetype": "text/x-python",
   "name": "python",
   "nbconvert_exporter": "python",
   "pygments_lexer": "ipython3",
   "version": "3.12.9"
  }
 },
 "nbformat": 4,
 "nbformat_minor": 5
}
